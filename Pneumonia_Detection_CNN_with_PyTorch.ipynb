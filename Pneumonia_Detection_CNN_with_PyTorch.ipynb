{
  "nbformat": 4,
  "nbformat_minor": 0,
  "metadata": {
    "kernelspec": {
      "language": "python",
      "display_name": "Python 3",
      "name": "python3"
    },
    "language_info": {
      "pygments_lexer": "ipython3",
      "nbconvert_exporter": "python",
      "version": "3.6.4",
      "file_extension": ".py",
      "codemirror_mode": {
        "name": "ipython",
        "version": 3
      },
      "name": "python",
      "mimetype": "text/x-python"
    },
    "colab": {
      "name": "Pneumonia Detection CNN with PyTorch.ipynb",
      "provenance": [],
      "collapsed_sections": [],
      "toc_visible": true,
      "include_colab_link": true
    },
    "widgets": {
      "application/vnd.jupyter.widget-state+json": {
        "ab09fc8f666d4fbb93e97d8963fa0ef4": {
          "model_module": "@jupyter-widgets/controls",
          "model_name": "HBoxModel",
          "state": {
            "_view_name": "HBoxView",
            "_dom_classes": [],
            "_model_name": "HBoxModel",
            "_view_module": "@jupyter-widgets/controls",
            "_model_module_version": "1.5.0",
            "_view_count": null,
            "_view_module_version": "1.5.0",
            "box_style": "",
            "layout": "IPY_MODEL_cf3186feac8c4b6c9e5f0536cf1f4d4e",
            "_model_module": "@jupyter-widgets/controls",
            "children": [
              "IPY_MODEL_40c673b9f6bb48918a718eddc5bfa2bc",
              "IPY_MODEL_171f8b1a45a54d20b420d196568a9fea"
            ]
          }
        },
        "cf3186feac8c4b6c9e5f0536cf1f4d4e": {
          "model_module": "@jupyter-widgets/base",
          "model_name": "LayoutModel",
          "state": {
            "_view_name": "LayoutView",
            "grid_template_rows": null,
            "right": null,
            "justify_content": null,
            "_view_module": "@jupyter-widgets/base",
            "overflow": null,
            "_model_module_version": "1.2.0",
            "_view_count": null,
            "flex_flow": null,
            "width": null,
            "min_width": null,
            "border": null,
            "align_items": null,
            "bottom": null,
            "_model_module": "@jupyter-widgets/base",
            "top": null,
            "grid_column": null,
            "overflow_y": null,
            "overflow_x": null,
            "grid_auto_flow": null,
            "grid_area": null,
            "grid_template_columns": null,
            "flex": null,
            "_model_name": "LayoutModel",
            "justify_items": null,
            "grid_row": null,
            "max_height": null,
            "align_content": null,
            "visibility": null,
            "align_self": null,
            "height": null,
            "min_height": null,
            "padding": null,
            "grid_auto_rows": null,
            "grid_gap": null,
            "max_width": null,
            "order": null,
            "_view_module_version": "1.2.0",
            "grid_template_areas": null,
            "object_position": null,
            "object_fit": null,
            "grid_auto_columns": null,
            "margin": null,
            "display": null,
            "left": null
          }
        },
        "40c673b9f6bb48918a718eddc5bfa2bc": {
          "model_module": "@jupyter-widgets/controls",
          "model_name": "FloatProgressModel",
          "state": {
            "_view_name": "ProgressView",
            "style": "IPY_MODEL_2dcc5c6fff204576b527ed7b41217f12",
            "_dom_classes": [],
            "description": "100%",
            "_model_name": "FloatProgressModel",
            "bar_style": "success",
            "max": 553433881,
            "_view_module": "@jupyter-widgets/controls",
            "_model_module_version": "1.5.0",
            "value": 553433881,
            "_view_count": null,
            "_view_module_version": "1.5.0",
            "orientation": "horizontal",
            "min": 0,
            "description_tooltip": null,
            "_model_module": "@jupyter-widgets/controls",
            "layout": "IPY_MODEL_4bc5e9e66d354678a558ce985ba85cf9"
          }
        },
        "171f8b1a45a54d20b420d196568a9fea": {
          "model_module": "@jupyter-widgets/controls",
          "model_name": "HTMLModel",
          "state": {
            "_view_name": "HTMLView",
            "style": "IPY_MODEL_d4014de74cbb4cfe91c39990c90bc8ac",
            "_dom_classes": [],
            "description": "",
            "_model_name": "HTMLModel",
            "placeholder": "​",
            "_view_module": "@jupyter-widgets/controls",
            "_model_module_version": "1.5.0",
            "value": " 528M/528M [02:02&lt;00:00, 4.52MB/s]",
            "_view_count": null,
            "_view_module_version": "1.5.0",
            "description_tooltip": null,
            "_model_module": "@jupyter-widgets/controls",
            "layout": "IPY_MODEL_4b71930524914ff9a0be2e86e5e09116"
          }
        },
        "2dcc5c6fff204576b527ed7b41217f12": {
          "model_module": "@jupyter-widgets/controls",
          "model_name": "ProgressStyleModel",
          "state": {
            "_view_name": "StyleView",
            "_model_name": "ProgressStyleModel",
            "description_width": "initial",
            "_view_module": "@jupyter-widgets/base",
            "_model_module_version": "1.5.0",
            "_view_count": null,
            "_view_module_version": "1.2.0",
            "bar_color": null,
            "_model_module": "@jupyter-widgets/controls"
          }
        },
        "4bc5e9e66d354678a558ce985ba85cf9": {
          "model_module": "@jupyter-widgets/base",
          "model_name": "LayoutModel",
          "state": {
            "_view_name": "LayoutView",
            "grid_template_rows": null,
            "right": null,
            "justify_content": null,
            "_view_module": "@jupyter-widgets/base",
            "overflow": null,
            "_model_module_version": "1.2.0",
            "_view_count": null,
            "flex_flow": null,
            "width": null,
            "min_width": null,
            "border": null,
            "align_items": null,
            "bottom": null,
            "_model_module": "@jupyter-widgets/base",
            "top": null,
            "grid_column": null,
            "overflow_y": null,
            "overflow_x": null,
            "grid_auto_flow": null,
            "grid_area": null,
            "grid_template_columns": null,
            "flex": null,
            "_model_name": "LayoutModel",
            "justify_items": null,
            "grid_row": null,
            "max_height": null,
            "align_content": null,
            "visibility": null,
            "align_self": null,
            "height": null,
            "min_height": null,
            "padding": null,
            "grid_auto_rows": null,
            "grid_gap": null,
            "max_width": null,
            "order": null,
            "_view_module_version": "1.2.0",
            "grid_template_areas": null,
            "object_position": null,
            "object_fit": null,
            "grid_auto_columns": null,
            "margin": null,
            "display": null,
            "left": null
          }
        },
        "d4014de74cbb4cfe91c39990c90bc8ac": {
          "model_module": "@jupyter-widgets/controls",
          "model_name": "DescriptionStyleModel",
          "state": {
            "_view_name": "StyleView",
            "_model_name": "DescriptionStyleModel",
            "description_width": "",
            "_view_module": "@jupyter-widgets/base",
            "_model_module_version": "1.5.0",
            "_view_count": null,
            "_view_module_version": "1.2.0",
            "_model_module": "@jupyter-widgets/controls"
          }
        },
        "4b71930524914ff9a0be2e86e5e09116": {
          "model_module": "@jupyter-widgets/base",
          "model_name": "LayoutModel",
          "state": {
            "_view_name": "LayoutView",
            "grid_template_rows": null,
            "right": null,
            "justify_content": null,
            "_view_module": "@jupyter-widgets/base",
            "overflow": null,
            "_model_module_version": "1.2.0",
            "_view_count": null,
            "flex_flow": null,
            "width": null,
            "min_width": null,
            "border": null,
            "align_items": null,
            "bottom": null,
            "_model_module": "@jupyter-widgets/base",
            "top": null,
            "grid_column": null,
            "overflow_y": null,
            "overflow_x": null,
            "grid_auto_flow": null,
            "grid_area": null,
            "grid_template_columns": null,
            "flex": null,
            "_model_name": "LayoutModel",
            "justify_items": null,
            "grid_row": null,
            "max_height": null,
            "align_content": null,
            "visibility": null,
            "align_self": null,
            "height": null,
            "min_height": null,
            "padding": null,
            "grid_auto_rows": null,
            "grid_gap": null,
            "max_width": null,
            "order": null,
            "_view_module_version": "1.2.0",
            "grid_template_areas": null,
            "object_position": null,
            "object_fit": null,
            "grid_auto_columns": null,
            "margin": null,
            "display": null,
            "left": null
          }
        }
      }
    }
  },
  "cells": [
    {
      "cell_type": "markdown",
      "metadata": {
        "id": "view-in-github",
        "colab_type": "text"
      },
      "source": [
        "<a href=\"https://colab.research.google.com/github/marcoramosw/Penumonia-Detection-CNN/blob/master/Pneumonia_Detection_CNN_with_PyTorch.ipynb\" target=\"_parent\"><img src=\"https://colab.research.google.com/assets/colab-badge.svg\" alt=\"Open In Colab\"/></a>"
      ]
    },
    {
      "cell_type": "code",
      "metadata": {
        "id": "o3wIZ6J7P5rD",
        "colab_type": "code",
        "colab": {
          "base_uri": "https://localhost:8080/",
          "height": 129
        },
        "outputId": "5555f0d6-801f-4fcf-f9ca-d414e041e4dd"
      },
      "source": [
        "from google.colab import drive\n",
        "drive.mount('/content/drive')"
      ],
      "execution_count": null,
      "outputs": [
        {
          "output_type": "stream",
          "text": [
            "Go to this URL in a browser: https://accounts.google.com/o/oauth2/auth?client_id=947318989803-6bn6qk8qdgf4n4g3pfee6491hc0brc4i.apps.googleusercontent.com&redirect_uri=urn%3aietf%3awg%3aoauth%3a2.0%3aoob&response_type=code&scope=email%20https%3a%2f%2fwww.googleapis.com%2fauth%2fdocs.test%20https%3a%2f%2fwww.googleapis.com%2fauth%2fdrive%20https%3a%2f%2fwww.googleapis.com%2fauth%2fdrive.photos.readonly%20https%3a%2f%2fwww.googleapis.com%2fauth%2fpeopleapi.readonly\n",
            "\n",
            "Enter your authorization code:\n",
            "··········\n",
            "Mounted at /content/drive\n"
          ],
          "name": "stdout"
        }
      ]
    },
    {
      "cell_type": "markdown",
      "metadata": {
        "id": "FBQocLLMEOkA",
        "colab_type": "text"
      },
      "source": [
        "# Imports"
      ]
    },
    {
      "cell_type": "code",
      "metadata": {
        "trusted": true,
        "scrolled": true,
        "id": "vYU2bLwBBOA_",
        "colab_type": "code",
        "colab": {
          "base_uri": "https://localhost:8080/",
          "height": 74
        },
        "outputId": "8c4baa44-5a59-405c-daf5-7b27a33282b9"
      },
      "source": [
        "import numpy as np\n",
        "import pandas as pd\n",
        "import matplotlib.pyplot as plt\n",
        "import seaborn as sb\n",
        "import cv2\n",
        "from PIL import Image\n",
        "\n",
        "import torch\n",
        "from torch import nn\n",
        "from torch import optim\n",
        "import torch.nn.functional as F\n",
        "from torchvision import datasets, transforms, models\n",
        "\n",
        "import os\n"
      ],
      "execution_count": null,
      "outputs": [
        {
          "output_type": "stream",
          "text": [
            "/usr/local/lib/python3.6/dist-packages/statsmodels/tools/_testing.py:19: FutureWarning: pandas.util.testing is deprecated. Use the functions in the public API at pandas.testing instead.\n",
            "  import pandas.util.testing as tm\n"
          ],
          "name": "stderr"
        }
      ]
    },
    {
      "cell_type": "code",
      "metadata": {
        "id": "Ci4_jbNTKDux",
        "colab_type": "code",
        "colab": {}
      },
      "source": [
        "#os.environ['KAGGLE_USERNAME'] = \"marcoalexandreramos\" \n",
        "#os.environ['KAGGLE_KEY'] = \"52663cb89b7aedaccd8da94b19921f6f\"\n",
        "#!kaggle datasets download -d paultimothymooney/chest-xray-pneumonia"
      ],
      "execution_count": null,
      "outputs": []
    },
    {
      "cell_type": "markdown",
      "metadata": {
        "id": "20tgWUAbBOBK",
        "colab_type": "text"
      },
      "source": [
        "#Loading the data\n",
        "\n",
        "Here I'll use `torchvision` to load the data ([documentation](http://pytorch.org/docs/0.3.0/torchvision/index.html)). The data should be included alongside this notebook. The dataset is split into three parts, training, validation, and testing. For the training, I'll apply transformations such as grayscale to RGB, random scaling, cropping, and flipping. This will help the network generalize leading to better performance. The input data must be resized to 224x224 pixels as required by the pre-trained networks.\n",
        "\n",
        "The validation and testing sets are used to measure the model's performance on data it hasn't seen yet. For this no scaling or rotation transformations will be applied, but the images still need to be resized and then croped to the appropriate size.\n",
        "\n",
        "The pre-trained networks I'll use were trained on the ImageNet dataset where each color channel was normalized separately. For all three sets I'll need to normalize the means and standard deviations of the images to what the network expects. For the means, it's `[0.485, 0.456, 0.406]` and for the standard deviations `[0.229, 0.224, 0.225]`, calculated from the ImageNet images.  These values will shift each color channel to be centered at 0 and range from -1 to 1.\n",
        " "
      ]
    },
    {
      "cell_type": "code",
      "metadata": {
        "trusted": true,
        "scrolled": true,
        "id": "dchPK1V0BOBN",
        "colab_type": "code",
        "colab": {}
      },
      "source": [
        "data_dir = '/content/drive/My Drive/Data Bases/chest_xray'\n",
        "train_dir = data_dir + '/train'\n",
        "valid_dir = data_dir + '/val'\n",
        "test_dir = data_dir + '/test'"
      ],
      "execution_count": null,
      "outputs": []
    },
    {
      "cell_type": "code",
      "metadata": {
        "trusted": true,
        "scrolled": true,
        "id": "UzAdvS3EBOBX",
        "colab_type": "code",
        "colab": {}
      },
      "source": [
        "# Defining transforms for the training, validation, and testing sets\n",
        "training_transforms = transforms.Compose([transforms.Lambda(lambda x: x.convert('RGB')),#transform grayscale ro rgb\n",
        "                                          transforms.RandomRotation(30),\n",
        "                                          transforms.RandomResizedCrop(224),\n",
        "                                          transforms.RandomHorizontalFlip(),\n",
        "                                          transforms.ToTensor(),\n",
        "                                          transforms.Normalize([0.485, 0.456, 0.406], \n",
        "                                                               [0.229, 0.224, 0.225])])\n",
        "\n",
        "validation_transforms = transforms.Compose([transforms.Lambda(lambda x: x.convert('RGB')),\n",
        "                                            transforms.Resize(256),\n",
        "                                            transforms.CenterCrop(224),\n",
        "                                            transforms.ToTensor(),\n",
        "                                            transforms.Normalize([0.485, 0.456, 0.406], \n",
        "                                                                 [0.229, 0.224, 0.225])])\n",
        "\n",
        "testing_transforms = transforms.Compose([transforms.Lambda(lambda x: x.convert('RGB')),\n",
        "                                         transforms.Resize(256),\n",
        "                                         transforms.CenterCrop(224),\n",
        "                                         transforms.ToTensor(),\n",
        "                                         transforms.Normalize([0.485, 0.456, 0.406], \n",
        "                                                              [0.229, 0.224, 0.225])])\n",
        "\n",
        "#  Loading the datasets with ImageFolder\n",
        "training_dataset = datasets.ImageFolder(train_dir, transform=training_transforms)\n",
        "validation_dataset = datasets.ImageFolder(valid_dir, transform=validation_transforms)\n",
        "testing_dataset = datasets.ImageFolder(test_dir, transform=testing_transforms)\n",
        "\n",
        "# Using the image datasets and the transforms, defining the dataloaders\n",
        "train_loader = torch.utils.data.DataLoader(training_dataset, batch_size=64, shuffle=True, num_workers=4)\n",
        "validate_loader = torch.utils.data.DataLoader(validation_dataset, batch_size=32)\n",
        "test_loader = torch.utils.data.DataLoader(testing_dataset, batch_size=32)"
      ],
      "execution_count": null,
      "outputs": []
    },
    {
      "cell_type": "code",
      "metadata": {
        "trusted": true,
        "scrolled": true,
        "id": "e360v3HeBOBf",
        "colab_type": "code",
        "colab": {
          "base_uri": "https://localhost:8080/",
          "height": 72
        },
        "outputId": "52bf9298-0505-46ab-c833-a80cb93f0b48"
      },
      "source": [
        "print(len(training_dataset))\n",
        "print(len(validation_dataset))\n",
        "print(len(testing_dataset))"
      ],
      "execution_count": null,
      "outputs": [
        {
          "output_type": "stream",
          "text": [
            "5226\n",
            "16\n",
            "632\n"
          ],
          "name": "stdout"
        }
      ]
    },
    {
      "cell_type": "markdown",
      "metadata": {
        "id": "CvxzQ24NBOBm",
        "colab_type": "text"
      },
      "source": [
        "# Label/Category mapping\n"
      ]
    },
    {
      "cell_type": "code",
      "metadata": {
        "trusted": true,
        "scrolled": true,
        "id": "Ls8lARBYBOBo",
        "colab_type": "code",
        "colab": {
          "base_uri": "https://localhost:8080/",
          "height": 54
        },
        "outputId": "5aa880c6-df29-414f-c4cf-b121543f140f"
      },
      "source": [
        "def find_classes(dir):\n",
        "    classes = os.listdir(dir)\n",
        "    classes.sort()\n",
        "    class_to_idx = {classes[i]: i for i in range(len(classes))}\n",
        "    return classes, class_to_idx\n",
        "\n",
        "find_classes(train_dir)"
      ],
      "execution_count": null,
      "outputs": [
        {
          "output_type": "execute_result",
          "data": {
            "text/plain": [
              "(['.DS_Store', 'NORMAL', 'PNEUMONIA'],\n",
              " {'.DS_Store': 0, 'NORMAL': 1, 'PNEUMONIA': 2})"
            ]
          },
          "metadata": {
            "tags": []
          },
          "execution_count": 7
        }
      ]
    },
    {
      "cell_type": "markdown",
      "metadata": {
        "id": "wtE-5PEhBOBv",
        "colab_type": "text"
      },
      "source": [
        "# Building and training the classifier\n",
        "\n",
        "Now that the data is ready, it's time to build and train the classifier. I will be using one of the pretrained models from `torchvision.models` to get the image features and then build and train a new feed-forward classifier using those features."
      ]
    },
    {
      "cell_type": "code",
      "metadata": {
        "trusted": true,
        "scrolled": true,
        "id": "kxfJhuiBBOBw",
        "colab_type": "code",
        "colab": {
          "base_uri": "https://localhost:8080/",
          "height": 932,
          "referenced_widgets": [
            "ab09fc8f666d4fbb93e97d8963fa0ef4",
            "cf3186feac8c4b6c9e5f0536cf1f4d4e",
            "40c673b9f6bb48918a718eddc5bfa2bc",
            "171f8b1a45a54d20b420d196568a9fea",
            "2dcc5c6fff204576b527ed7b41217f12",
            "4bc5e9e66d354678a558ce985ba85cf9",
            "d4014de74cbb4cfe91c39990c90bc8ac",
            "4b71930524914ff9a0be2e86e5e09116"
          ]
        },
        "outputId": "e467fca6-1813-4d2e-9f3f-9baaa591f93a"
      },
      "source": [
        "# Building and training the network using Transfer Learning\n",
        "model = models.vgg16(pretrained=True)\n",
        "if torch.cuda.is_available():\n",
        "    model.cuda()\n",
        "#model"
      ],
      "execution_count": null,
      "outputs": [
        {
          "output_type": "stream",
          "text": [
            "Downloading: \"https://download.pytorch.org/models/vgg16-397923af.pth\" to /root/.cache/torch/checkpoints/vgg16-397923af.pth\n"
          ],
          "name": "stderr"
        },
        {
          "output_type": "display_data",
          "data": {
            "application/vnd.jupyter.widget-view+json": {
              "model_id": "ab09fc8f666d4fbb93e97d8963fa0ef4",
              "version_minor": 0,
              "version_major": 2
            },
            "text/plain": [
              "HBox(children=(FloatProgress(value=0.0, max=553433881.0), HTML(value='')))"
            ]
          },
          "metadata": {
            "tags": []
          }
        },
        {
          "output_type": "stream",
          "text": [
            "\n"
          ],
          "name": "stdout"
        },
        {
          "output_type": "execute_result",
          "data": {
            "text/plain": [
              "VGG(\n",
              "  (features): Sequential(\n",
              "    (0): Conv2d(3, 64, kernel_size=(3, 3), stride=(1, 1), padding=(1, 1))\n",
              "    (1): ReLU(inplace=True)\n",
              "    (2): Conv2d(64, 64, kernel_size=(3, 3), stride=(1, 1), padding=(1, 1))\n",
              "    (3): ReLU(inplace=True)\n",
              "    (4): MaxPool2d(kernel_size=2, stride=2, padding=0, dilation=1, ceil_mode=False)\n",
              "    (5): Conv2d(64, 128, kernel_size=(3, 3), stride=(1, 1), padding=(1, 1))\n",
              "    (6): ReLU(inplace=True)\n",
              "    (7): Conv2d(128, 128, kernel_size=(3, 3), stride=(1, 1), padding=(1, 1))\n",
              "    (8): ReLU(inplace=True)\n",
              "    (9): MaxPool2d(kernel_size=2, stride=2, padding=0, dilation=1, ceil_mode=False)\n",
              "    (10): Conv2d(128, 256, kernel_size=(3, 3), stride=(1, 1), padding=(1, 1))\n",
              "    (11): ReLU(inplace=True)\n",
              "    (12): Conv2d(256, 256, kernel_size=(3, 3), stride=(1, 1), padding=(1, 1))\n",
              "    (13): ReLU(inplace=True)\n",
              "    (14): Conv2d(256, 256, kernel_size=(3, 3), stride=(1, 1), padding=(1, 1))\n",
              "    (15): ReLU(inplace=True)\n",
              "    (16): MaxPool2d(kernel_size=2, stride=2, padding=0, dilation=1, ceil_mode=False)\n",
              "    (17): Conv2d(256, 512, kernel_size=(3, 3), stride=(1, 1), padding=(1, 1))\n",
              "    (18): ReLU(inplace=True)\n",
              "    (19): Conv2d(512, 512, kernel_size=(3, 3), stride=(1, 1), padding=(1, 1))\n",
              "    (20): ReLU(inplace=True)\n",
              "    (21): Conv2d(512, 512, kernel_size=(3, 3), stride=(1, 1), padding=(1, 1))\n",
              "    (22): ReLU(inplace=True)\n",
              "    (23): MaxPool2d(kernel_size=2, stride=2, padding=0, dilation=1, ceil_mode=False)\n",
              "    (24): Conv2d(512, 512, kernel_size=(3, 3), stride=(1, 1), padding=(1, 1))\n",
              "    (25): ReLU(inplace=True)\n",
              "    (26): Conv2d(512, 512, kernel_size=(3, 3), stride=(1, 1), padding=(1, 1))\n",
              "    (27): ReLU(inplace=True)\n",
              "    (28): Conv2d(512, 512, kernel_size=(3, 3), stride=(1, 1), padding=(1, 1))\n",
              "    (29): ReLU(inplace=True)\n",
              "    (30): MaxPool2d(kernel_size=2, stride=2, padding=0, dilation=1, ceil_mode=False)\n",
              "  )\n",
              "  (avgpool): AdaptiveAvgPool2d(output_size=(7, 7))\n",
              "  (classifier): Sequential(\n",
              "    (0): Linear(in_features=25088, out_features=4096, bias=True)\n",
              "    (1): ReLU(inplace=True)\n",
              "    (2): Dropout(p=0.5, inplace=False)\n",
              "    (3): Linear(in_features=4096, out_features=4096, bias=True)\n",
              "    (4): ReLU(inplace=True)\n",
              "    (5): Dropout(p=0.5, inplace=False)\n",
              "    (6): Linear(in_features=4096, out_features=1000, bias=True)\n",
              "  )\n",
              ")"
            ]
          },
          "metadata": {
            "tags": []
          },
          "execution_count": 8
        }
      ]
    },
    {
      "cell_type": "code",
      "metadata": {
        "trusted": true,
        "scrolled": true,
        "id": "mYaxvFgeBOB2",
        "colab_type": "code",
        "colab": {}
      },
      "source": [
        "# Freezing pretrained model parameters to avoid backpropogating through them\n",
        "for parameter in model.parameters():\n",
        "    parameter.requires_grad = False\n",
        "\n",
        "\n",
        "from collections import OrderedDict\n",
        "\n",
        "# Building custom classifier\n",
        "classifier = nn.Sequential(OrderedDict([('fc1', nn.Linear(25088, 4096)),\n",
        "                                        ('relu', nn.ReLU()),\n",
        "                                        ('drop', nn.Dropout(p=0.5)),\n",
        "                                        ('fc2', nn.Linear(4096, 2)),#2 classes (pneumonia, normal)\n",
        "                                        ('output', nn.LogSoftmax(dim=1))]))\n",
        "\n",
        "model.classifier = classifier"
      ],
      "execution_count": null,
      "outputs": []
    },
    {
      "cell_type": "code",
      "metadata": {
        "trusted": true,
        "id": "XjWG7Yh0BOB7",
        "colab_type": "code",
        "colab": {
          "base_uri": "https://localhost:8080/",
          "height": 54
        },
        "outputId": "c9b0e9cb-e4d1-4af2-a17c-59aaae0bd3eb"
      },
      "source": [
        "#Total Parameters\n",
        "total_params = sum(p.numel() for p in model.parameters())\n",
        "print(f'{total_params:,} total parameters.')\n",
        "total_trainable_params = sum(\n",
        "    p.numel() for p in model.parameters() if p.requires_grad)\n",
        "print(f'{total_trainable_params:,} training parameters.')"
      ],
      "execution_count": null,
      "outputs": [
        {
          "output_type": "stream",
          "text": [
            "117,487,426 total parameters.\n",
            "102,772,738 training parameters.\n"
          ],
          "name": "stdout"
        }
      ]
    },
    {
      "cell_type": "code",
      "metadata": {
        "trusted": true,
        "scrolled": true,
        "id": "0dB-ON_aBOCB",
        "colab_type": "code",
        "colab": {}
      },
      "source": [
        "# Function for the validation pass\n",
        "def validation(model, validateloader, criterion):\n",
        "    \n",
        "    val_loss = 0\n",
        "    accuracy = 0\n",
        "    device = torch.device(\"cuda:0\" if torch.cuda.is_available() else \"cpu\")\n",
        "    \n",
        "    for images, labels in iter(validateloader):\n",
        "\n",
        "        images, labels = images.to(device), labels.to(device)\n",
        "\n",
        "        output = model.forward(images)\n",
        "        val_loss += criterion(output, labels).item()\n",
        "\n",
        "        probabilities = torch.exp(output)\n",
        "        \n",
        "        equality = (labels.data == probabilities.max(dim=1)[1])\n",
        "        accuracy += equality.type(torch.FloatTensor).mean()\n",
        "    \n",
        "    return val_loss, accuracy"
      ],
      "execution_count": null,
      "outputs": []
    },
    {
      "cell_type": "code",
      "metadata": {
        "trusted": true,
        "scrolled": true,
        "id": "FbgDZOZjBOCG",
        "colab_type": "code",
        "colab": {}
      },
      "source": [
        "# Loss function and gradient descent\n",
        "\n",
        "criterion = nn.NLLLoss()\n",
        "\n",
        "optimizer = optim.Adam(model.classifier.parameters(), lr=0.001)\n",
        "\n",
        "#callback = Callback(model, config, early_stop_patience=2, outdir=\"model\")\n",
        "\n",
        "\n"
      ],
      "execution_count": null,
      "outputs": []
    },
    {
      "cell_type": "code",
      "metadata": {
        "trusted": true,
        "scrolled": true,
        "id": "uyhLH9-1BOCN",
        "colab_type": "code",
        "colab": {
          "base_uri": "https://localhost:8080/",
          "height": 35
        },
        "outputId": "6c804533-6864-4c86-d8e7-b78791d0a8bc"
      },
      "source": [
        "USE_GPU = True\n",
        "\n",
        "if USE_GPU and torch.cuda.is_available():\n",
        "    print('using device: cuda')\n",
        "else:\n",
        "    print('using device: cpu')"
      ],
      "execution_count": null,
      "outputs": [
        {
          "output_type": "stream",
          "text": [
            "using device: cuda\n"
          ],
          "name": "stdout"
        }
      ]
    },
    {
      "cell_type": "code",
      "metadata": {
        "trusted": true,
        "scrolled": true,
        "id": "34YYRItSBOCU",
        "colab_type": "code",
        "colab": {
          "base_uri": "https://localhost:8080/",
          "height": 568
        },
        "outputId": "c877f880-8f53-4920-c195-58409b266950"
      },
      "source": [
        "# Trainning the classifier\n",
        "\n",
        "\n",
        "#from workspace_utils import active_session -> this can be used so that the session remains on and not disconnect\n",
        "\n",
        "\n",
        "def train_classifier():\n",
        "\n",
        "\n",
        "    epochs = 15\n",
        "    steps = 0\n",
        "    print_every = 40\n",
        "    device = torch.device(\"cuda:0\" if torch.cuda.is_available() else \"cpu\")\n",
        "     \n",
        "    \n",
        "    model.to(device)\n",
        "\n",
        "    for e in range(epochs):\n",
        "        \n",
        "        model.train()\n",
        "    \n",
        "        running_loss = 0\n",
        "    \n",
        "        for images, labels in iter(train_loader):\n",
        "        \n",
        "            steps += 1\n",
        "        \n",
        "            images, labels = images.to(device), labels.to(device)\n",
        "        \n",
        "            optimizer.zero_grad()\n",
        "        \n",
        "            output = model.forward(images)\n",
        "            loss = criterion(output, labels)\n",
        "            loss.backward()\n",
        "            optimizer.step()\n",
        "        \n",
        "            running_loss += loss.item()\n",
        "        \n",
        "            if steps % print_every == 0:\n",
        "                \n",
        "                model.eval()\n",
        "                \n",
        "                # Turning off gradients for validation, saves memory and computations\n",
        "                with torch.no_grad():\n",
        "                    validation_loss, accuracy = validation(model, validate_loader, criterion)\n",
        "            \n",
        "                print(\"Epoch: {}/{}.. \".format(e+1, epochs),\n",
        "                        \"Training Loss: {:.3f}.. \".format(running_loss/print_every),\n",
        "                        \"Validation Loss: {:.3f}.. \".format(validation_loss/len(validate_loader)),\n",
        "                        \"Validation Accuracy: {:.3f}\".format(accuracy/len(validate_loader)))\n",
        "                running_loss = 0\n",
        "\n",
        "                model.train()      \n",
        "train_classifier()                    "
      ],
      "execution_count": null,
      "outputs": [
        {
          "output_type": "stream",
          "text": [
            "Epoch: 1/15..  Training Loss: 1.705..  Validation Loss: 0.144..  Validation Accuracy: 0.938\n",
            "Epoch: 1/15..  Training Loss: 0.290..  Validation Loss: 0.220..  Validation Accuracy: 0.938\n",
            "Epoch: 2/15..  Training Loss: 0.247..  Validation Loss: 0.155..  Validation Accuracy: 1.000\n",
            "Epoch: 2/15..  Training Loss: 0.270..  Validation Loss: 0.252..  Validation Accuracy: 0.938\n",
            "Epoch: 3/15..  Training Loss: 0.213..  Validation Loss: 0.315..  Validation Accuracy: 0.875\n",
            "Epoch: 3/15..  Training Loss: 0.243..  Validation Loss: 0.333..  Validation Accuracy: 0.812\n",
            "Epoch: 4/15..  Training Loss: 0.193..  Validation Loss: 0.169..  Validation Accuracy: 0.938\n",
            "Epoch: 4/15..  Training Loss: 0.247..  Validation Loss: 0.146..  Validation Accuracy: 0.938\n",
            "Epoch: 5/15..  Training Loss: 0.174..  Validation Loss: 0.206..  Validation Accuracy: 0.938\n",
            "Epoch: 5/15..  Training Loss: 0.230..  Validation Loss: 0.141..  Validation Accuracy: 0.938\n",
            "Epoch: 6/15..  Training Loss: 0.169..  Validation Loss: 0.129..  Validation Accuracy: 0.938\n",
            "Epoch: 6/15..  Training Loss: 0.200..  Validation Loss: 0.121..  Validation Accuracy: 0.938\n",
            "Epoch: 7/15..  Training Loss: 0.172..  Validation Loss: 0.123..  Validation Accuracy: 0.938\n",
            "Epoch: 7/15..  Training Loss: 0.220..  Validation Loss: 0.564..  Validation Accuracy: 0.750\n",
            "Epoch: 8/15..  Training Loss: 0.140..  Validation Loss: 0.157..  Validation Accuracy: 0.938\n",
            "Epoch: 8/15..  Training Loss: 0.224..  Validation Loss: 0.352..  Validation Accuracy: 0.875\n",
            "Epoch: 9/15..  Training Loss: 0.132..  Validation Loss: 0.189..  Validation Accuracy: 0.938\n",
            "Epoch: 9/15..  Training Loss: 0.203..  Validation Loss: 0.248..  Validation Accuracy: 0.938\n",
            "Epoch: 10/15..  Training Loss: 0.107..  Validation Loss: 0.271..  Validation Accuracy: 0.938\n",
            "Epoch: 10/15..  Training Loss: 0.227..  Validation Loss: 0.150..  Validation Accuracy: 0.938\n",
            "Epoch: 11/15..  Training Loss: 0.108..  Validation Loss: 0.195..  Validation Accuracy: 0.875\n",
            "Epoch: 11/15..  Training Loss: 0.223..  Validation Loss: 0.213..  Validation Accuracy: 0.875\n",
            "Epoch: 12/15..  Training Loss: 0.096..  Validation Loss: 0.530..  Validation Accuracy: 0.812\n",
            "Epoch: 12/15..  Training Loss: 0.211..  Validation Loss: 0.165..  Validation Accuracy: 0.938\n",
            "Epoch: 13/15..  Training Loss: 0.086..  Validation Loss: 0.256..  Validation Accuracy: 0.875\n",
            "Epoch: 13/15..  Training Loss: 0.216..  Validation Loss: 0.195..  Validation Accuracy: 0.938\n",
            "Epoch: 14/15..  Training Loss: 0.073..  Validation Loss: 0.259..  Validation Accuracy: 0.875\n",
            "Epoch: 14/15..  Training Loss: 0.202..  Validation Loss: 0.394..  Validation Accuracy: 0.875\n",
            "Epoch: 15/15..  Training Loss: 0.061..  Validation Loss: 0.311..  Validation Accuracy: 0.875\n",
            "Epoch: 15/15..  Training Loss: 0.213..  Validation Loss: 0.228..  Validation Accuracy: 0.875\n"
          ],
          "name": "stdout"
        }
      ]
    },
    {
      "cell_type": "code",
      "metadata": {
        "trusted": true,
        "id": "69KbdC-kBOCb",
        "colab_type": "code",
        "colab": {}
      },
      "source": [
        "#callback.reset_early_stop()\n",
        "#callback.early_stop_patience = 5"
      ],
      "execution_count": null,
      "outputs": []
    },
    {
      "cell_type": "markdown",
      "metadata": {
        "id": "tnqLx-40BOCg",
        "colab_type": "text"
      },
      "source": [
        "# Testing the network\n",
        "\n",
        "It's good practice to test the trained network on test data, images the network has never seen either in training or validation. This will give a good estimate for the model's performance on completely new images. I will run the test images through the network and measure the accuracy, the same way I did validation. "
      ]
    },
    {
      "cell_type": "code",
      "metadata": {
        "trusted": true,
        "scrolled": true,
        "id": "l8ox_qGkBOCh",
        "colab_type": "code",
        "colab": {
          "base_uri": "https://localhost:8080/",
          "height": 35
        },
        "outputId": "44bdb4ff-79da-45d5-fe97-7f42bb194a7e"
      },
      "source": [
        "def test_accuracy(model, test_loader):\n",
        "\n",
        "    # Do validation on the test set\n",
        "    model.eval()\n",
        "    device = torch.device(\"cuda:0\" if torch.cuda.is_available() else \"cpu\")\n",
        "    model.to(device)\n",
        "\n",
        "    with torch.no_grad():\n",
        "    \n",
        "        accuracy = 0\n",
        "    \n",
        "        for images, labels in iter(test_loader):\n",
        "    \n",
        "            images, labels = images.to(device), labels.to(device)\n",
        "    \n",
        "            output = model.forward(images)\n",
        "\n",
        "            probabilities = torch.exp(output)\n",
        "        \n",
        "            equality = (labels.data == probabilities.max(dim=1)[1])\n",
        "        \n",
        "            accuracy += equality.type(torch.FloatTensor).mean()\n",
        "        \n",
        "        print(\"Test Accuracy: {}\".format(accuracy/len(test_loader)))    \n",
        "        \n",
        "        \n",
        "test_accuracy(model, test_loader)"
      ],
      "execution_count": null,
      "outputs": [
        {
          "output_type": "stream",
          "text": [
            "Test Accuracy: 0.890625\n"
          ],
          "name": "stdout"
        }
      ]
    },
    {
      "cell_type": "markdown",
      "metadata": {
        "id": "XBQWNkZfBOCn",
        "colab_type": "text"
      },
      "source": [
        "# Saving the checkpoint\n",
        "\n",
        "Now that the network is trained, it needs to be saved so it can be loaded later to make predictions. Other things such as the mapping of classes to indices are going to be saved also, which can be obtained from one of the image datasets: `image_datasets['train'].class_to_idx`. \n",
        "\n",
        "attaching this to the model as an attribute which makes inference easier later on.\n",
        "\n",
        "```model.class_to_idx = image_datasets['train'].class_to_idx```\n",
        "\n",
        "For the model to be completely rebuilt later, for inference, more info needs to be saved in the checkpoint: \n",
        "- number of epochs. \n",
        "- optimizer state, `optimizer.state_dict`."
      ]
    },
    {
      "cell_type": "code",
      "metadata": {
        "trusted": true,
        "scrolled": true,
        "id": "eCEof_zyBOCo",
        "colab_type": "code",
        "colab": {}
      },
      "source": [
        "# Save the checkpoint\n",
        "\n",
        "def save_checkpoint(model):\n",
        "\n",
        "    model.class_to_idx = training_dataset.class_to_idx\n",
        "\n",
        "    checkpoint = {'arch': \"vgg16\",\n",
        "                  'class_to_idx': model.class_to_idx,\n",
        "                  'model_state_dict': model.state_dict()\n",
        "                 }\n",
        "\n",
        "    torch.save(checkpoint, 'checkpoint.pth')\n",
        "    \n",
        "save_checkpoint(model)    "
      ],
      "execution_count": null,
      "outputs": []
    },
    {
      "cell_type": "markdown",
      "metadata": {
        "id": "Z6fzTTR5BOCu",
        "colab_type": "text"
      },
      "source": [
        "# Loading the checkpoint\n",
        "\n",
        "At this point it's good to write a function that can load a checkpoint and rebuild the model. That way I can come back to this project and keep working on it without having to retrain the network."
      ]
    },
    {
      "cell_type": "code",
      "metadata": {
        "trusted": true,
        "scrolled": true,
        "id": "AlnF6-ZQBOCu",
        "colab_type": "code",
        "colab": {}
      },
      "source": [
        "from collections import OrderedDict\n",
        "\n",
        "# Function that loads a checkpoint and rebuilds the model\n",
        "\n",
        "def load_checkpoint(filepath):\n",
        "    \n",
        "    checkpoint = torch.load(filepath)\n",
        "    \n",
        "    if checkpoint['arch'] == 'vgg16':\n",
        "        \n",
        "        model = models.vgg16(pretrained=True)\n",
        "        \n",
        "        for param in model.parameters():\n",
        "            param.requires_grad = False\n",
        "    else:\n",
        "        print(\"Architecture not recognized.\")\n",
        "    \n",
        "    model.class_to_idx = checkpoint['class_to_idx']\n",
        "    \n",
        "    classifier = nn.Sequential(OrderedDict([('fc1', nn.Linear(25088, 4096)),\n",
        "                                          ('relu', nn.ReLU()),\n",
        "                                          ('drop', nn.Dropout(p=0.5)),\n",
        "                                          ('fc2', nn.Linear(4096, 2)),#2 classes (pneumonia, normal)\n",
        "                                          ('output', nn.LogSoftmax(dim=1))]))\n",
        "\n",
        "    model.classifier = classifier\n",
        "    \n",
        "    model.load_state_dict(checkpoint['model_state_dict'])\n",
        "    \n",
        "    return model\n"
      ],
      "execution_count": null,
      "outputs": []
    },
    {
      "cell_type": "code",
      "metadata": {
        "trusted": true,
        "scrolled": true,
        "id": "7RQMSAeBBOC0",
        "colab_type": "code",
        "colab": {
          "base_uri": "https://localhost:8080/",
          "height": 807
        },
        "outputId": "658bf3cc-dabc-4685-c9ca-89062889a837"
      },
      "source": [
        "model = load_checkpoint('/content/drive/My Drive/Colab Notebooks/checkpoint.pth')\n",
        "if torch.cuda.is_available():\n",
        "    model.cuda()\n",
        "print(model)"
      ],
      "execution_count": null,
      "outputs": [
        {
          "output_type": "stream",
          "text": [
            "VGG(\n",
            "  (features): Sequential(\n",
            "    (0): Conv2d(3, 64, kernel_size=(3, 3), stride=(1, 1), padding=(1, 1))\n",
            "    (1): ReLU(inplace=True)\n",
            "    (2): Conv2d(64, 64, kernel_size=(3, 3), stride=(1, 1), padding=(1, 1))\n",
            "    (3): ReLU(inplace=True)\n",
            "    (4): MaxPool2d(kernel_size=2, stride=2, padding=0, dilation=1, ceil_mode=False)\n",
            "    (5): Conv2d(64, 128, kernel_size=(3, 3), stride=(1, 1), padding=(1, 1))\n",
            "    (6): ReLU(inplace=True)\n",
            "    (7): Conv2d(128, 128, kernel_size=(3, 3), stride=(1, 1), padding=(1, 1))\n",
            "    (8): ReLU(inplace=True)\n",
            "    (9): MaxPool2d(kernel_size=2, stride=2, padding=0, dilation=1, ceil_mode=False)\n",
            "    (10): Conv2d(128, 256, kernel_size=(3, 3), stride=(1, 1), padding=(1, 1))\n",
            "    (11): ReLU(inplace=True)\n",
            "    (12): Conv2d(256, 256, kernel_size=(3, 3), stride=(1, 1), padding=(1, 1))\n",
            "    (13): ReLU(inplace=True)\n",
            "    (14): Conv2d(256, 256, kernel_size=(3, 3), stride=(1, 1), padding=(1, 1))\n",
            "    (15): ReLU(inplace=True)\n",
            "    (16): MaxPool2d(kernel_size=2, stride=2, padding=0, dilation=1, ceil_mode=False)\n",
            "    (17): Conv2d(256, 512, kernel_size=(3, 3), stride=(1, 1), padding=(1, 1))\n",
            "    (18): ReLU(inplace=True)\n",
            "    (19): Conv2d(512, 512, kernel_size=(3, 3), stride=(1, 1), padding=(1, 1))\n",
            "    (20): ReLU(inplace=True)\n",
            "    (21): Conv2d(512, 512, kernel_size=(3, 3), stride=(1, 1), padding=(1, 1))\n",
            "    (22): ReLU(inplace=True)\n",
            "    (23): MaxPool2d(kernel_size=2, stride=2, padding=0, dilation=1, ceil_mode=False)\n",
            "    (24): Conv2d(512, 512, kernel_size=(3, 3), stride=(1, 1), padding=(1, 1))\n",
            "    (25): ReLU(inplace=True)\n",
            "    (26): Conv2d(512, 512, kernel_size=(3, 3), stride=(1, 1), padding=(1, 1))\n",
            "    (27): ReLU(inplace=True)\n",
            "    (28): Conv2d(512, 512, kernel_size=(3, 3), stride=(1, 1), padding=(1, 1))\n",
            "    (29): ReLU(inplace=True)\n",
            "    (30): MaxPool2d(kernel_size=2, stride=2, padding=0, dilation=1, ceil_mode=False)\n",
            "  )\n",
            "  (avgpool): AdaptiveAvgPool2d(output_size=(7, 7))\n",
            "  (classifier): Sequential(\n",
            "    (fc1): Linear(in_features=25088, out_features=4096, bias=True)\n",
            "    (relu): ReLU()\n",
            "    (drop): Dropout(p=0.5, inplace=False)\n",
            "    (fc2): Linear(in_features=4096, out_features=2, bias=True)\n",
            "    (output): LogSoftmax()\n",
            "  )\n",
            ")\n"
          ],
          "name": "stdout"
        }
      ]
    },
    {
      "cell_type": "markdown",
      "metadata": {
        "id": "GtXTgJRLBOC3",
        "colab_type": "text"
      },
      "source": [
        "# Inference for classification\n",
        "\n",
        "Writing a function to use a trained network for inference. That is, I'll pass an image into the network and predict the class of the Chest X-Ray. \n",
        "\n",
        "Writing a function called `predict` that takes an image and a model, then returns the top $K$ most likely classes along with the probabilities. \n",
        "\n",
        "First the input image needs to be processed in the same manner it was for training, so that it can be used in the network. \n",
        "\n",
        "\n",
        "## Image Preprocessing\n",
        "\n",
        "I'll use `PIL` to load the image ([documentation](https://pillow.readthedocs.io/en/latest/reference/Image.html)). It's best to write a function that preprocesses the image so it can be used as an input for the model. This function should process the images in the same manner used for training. \n",
        "\n",
        "First, resize the images where the shortest side is 256 pixels, keeping the aspect ratio. This can be done with the [`thumbnail`](http://pillow.readthedocs.io/en/3.1.x/reference/Image.html#PIL.Image.Image.thumbnail) or [`resize`](http://pillow.readthedocs.io/en/3.1.x/reference/Image.html#PIL.Image.Image.thumbnail) methods. Then crop out the center 224x224 portion of the image.\n",
        "\n",
        "Color channels of images are typically encoded as integers 0-255, but the model expected floats 0-1. I'll need to convert the values. It's easiest with a Numpy array, which can be obtained from a PIL image like so `np_image = np.array(pil_image)`.\n",
        "\n",
        "As before, the network expects the images to be normalized in a specific way. For the means, it's `[0.485, 0.456, 0.406]` and for the standard deviations `[0.229, 0.224, 0.225]`. I'll subtract the means from each color channel, then divide by the standard deviation. \n",
        "\n",
        "And finally, PyTorch expects the color channel to be the first dimension but it's the third dimension in the PIL image and Numpy array. Dimensions must be reordered using [`ndarray.transpose`](https://docs.scipy.org/doc/numpy-1.13.0/reference/generated/numpy.ndarray.transpose.html). The color channel needs to be first and retain the order of the other two dimensions."
      ]
    },
    {
      "cell_type": "code",
      "metadata": {
        "trusted": true,
        "scrolled": true,
        "id": "7VlLkC4RBOC4",
        "colab_type": "code",
        "colab": {}
      },
      "source": [
        "#from PIL import Image\n",
        "\n",
        "def process_image(image_path):\n",
        "    ''' Scales, crops, and normalizes a PIL image for a PyTorch model,\n",
        "        returns an Numpy array\n",
        "    '''\n",
        "    \n",
        "    # Process a PIL image for use in a PyTorch model\n",
        "    \n",
        "    pil_image = Image.open(image_path).convert('RGB') #.convert('RGB') for grayscale to rgb\n",
        "    \n",
        "    # Resize\n",
        "    if pil_image.size[0] > pil_image.size[1]:\n",
        "        pil_image.thumbnail((5000, 256))\n",
        "    else:\n",
        "        pil_image.thumbnail((256, 5000))\n",
        "        \n",
        "    # Crop \n",
        "    left_margin = (pil_image.width-224)/2\n",
        "    bottom_margin = (pil_image.height-224)/2\n",
        "    right_margin = left_margin + 224\n",
        "    top_margin = bottom_margin + 224\n",
        "    \n",
        "    pil_image = pil_image.crop((left_margin, bottom_margin, right_margin, top_margin))\n",
        "    \n",
        "    \n",
        "    # Normalize\n",
        "    np_image = np.array(pil_image)/255\n",
        "    mean = np.array([0.485, 0.456, 0.406])\n",
        "    std = np.array([0.229, 0.224, 0.225])\n",
        "    np_image = (np_image - mean) / std\n",
        "  \n",
        "    # PyTorch expects the color channel to be the first dimension but it's the third dimension in the PIL image and Numpy array\n",
        "    # Color channel needs to be first; retain the order of the other two dimensions.\n",
        "    np_image = np_image.transpose((2, 0, 1))\n",
        "    \n",
        "    return np_image\n",
        "\n"
      ],
      "execution_count": null,
      "outputs": []
    },
    {
      "cell_type": "markdown",
      "metadata": {
        "id": "nBhKsGjlBOC9",
        "colab_type": "text"
      },
      "source": [
        "Checking work done untill now, the function below converts a PyTorch tensor and displays it in the notebook. If `process_image` function works, running the output through this function should return the original image (except for the cropped out portions)."
      ]
    },
    {
      "cell_type": "code",
      "metadata": {
        "trusted": true,
        "scrolled": true,
        "id": "vfKE6_-PBOC-",
        "colab_type": "code",
        "colab": {
          "base_uri": "https://localhost:8080/",
          "height": 287
        },
        "outputId": "62ccccb6-0b5f-4c65-fedb-4088f2e8e50c"
      },
      "source": [
        "def imshow(image, ax=None, title=None):\n",
        "    if ax is None:\n",
        "        fig, ax = plt.subplots()\n",
        "    \n",
        "    # PyTorch tensors assume the color channel is the first dimension\n",
        "    # but matplotlib assumes is the third dimension\n",
        "    image = image.transpose((1, 2, 0))\n",
        "    \n",
        "    # Undo preprocessing\n",
        "    mean = np.array([0.485, 0.456, 0.406])\n",
        "    std = np.array([0.229, 0.224, 0.225])\n",
        "    image = std * image + mean\n",
        "    \n",
        "    if title is not None:\n",
        "        ax.set_title(title)\n",
        "    \n",
        "    # Image needs to be clipped between 0 and 1 or it looks like noise when displayed\n",
        "    image = np.clip(image, 0, 1)\n",
        "    \n",
        "    ax.imshow(image)\n",
        "    \n",
        "    return ax\n",
        "\n",
        "image = process_image('/content/drive/My Drive/Data Bases/chest_xray/test/NORMAL/NORMAL2-IM-0332-0001.jpeg')\n",
        "imshow(image)"
      ],
      "execution_count": null,
      "outputs": [
        {
          "output_type": "execute_result",
          "data": {
            "text/plain": [
              "<matplotlib.axes._subplots.AxesSubplot at 0x7f8bd17779e8>"
            ]
          },
          "metadata": {
            "tags": []
          },
          "execution_count": 18
        },
        {
          "output_type": "display_data",
          "data": {
            "image/png": "[encoded data removed]",
            "text/plain": [
              "<Figure size 432x288 with 1 Axes>"
            ]
          },
          "metadata": {
            "tags": [],
            "needs_background": "light"
          }
        }
      ]
    },
    {
      "cell_type": "markdown",
      "metadata": {
        "id": "CTiPF0nmBODD",
        "colab_type": "text"
      },
      "source": [
        "# Class Prediction\n",
        "\n",
        "Once the images are in the correct format, it's time to write a function to make predictions with the model. A common practice is to predict the top 5 or so (usually called top-$K$) most probable classes, is this case we just have 2 (Normal and Pneumonia). I'll calculate the class probabilities then find the $K$ largest values.\n",
        "\n",
        "To get the top $K$ largest values in a tensor use [`x.topk(k)`](http://pytorch.org/docs/master/torch.html#torch.topk). This method returns both the highest `k` probabilities and the indices of those probabilities corresponding to the classes. The indices need to be converted to the actual class labels using `class_to_idx` which was added to the model, it can also be done from an `ImageFolder` used to load the data ([see here](#Save-the-checkpoint)). \n",
        "\n",
        "Again, this method should take a path to an image and a model checkpoint, then return the probabilities and classes.\n"
      ]
    },
    {
      "cell_type": "code",
      "metadata": {
        "trusted": true,
        "scrolled": true,
        "id": "gnR_JjzSBODE",
        "colab_type": "code",
        "colab": {
          "base_uri": "https://localhost:8080/",
          "height": 54
        },
        "outputId": "c0b443f6-9fa4-450a-b6da-0d5aca1fcb1b"
      },
      "source": [
        "# Implement the code to predict the class from an image file\n",
        "\n",
        "def predict(image_path, model, topk=2): #just 2 classes\n",
        "    ''' Predict the class (or classes) of an image using a trained deep learning model.\n",
        "    '''\n",
        "    \n",
        "    image = process_image(image_path)\n",
        "    \n",
        "    # Convert image to PyTorch tensor first\n",
        "    image = torch.from_numpy(image).type(torch.cuda.FloatTensor)\n",
        "    #print(image.shape)\n",
        "    #print(type(image))\n",
        "    \n",
        "    # Returns a new tensor with a dimension of size one inserted at the specified position.\n",
        "    image = image.unsqueeze(0)\n",
        "    \n",
        "    output = model.forward(image)\n",
        "    \n",
        "    probabilities = torch.exp(output)\n",
        "    \n",
        "    # Probabilities and the indices of those probabilities corresponding to the classes\n",
        "    top_probabilities, top_indices = probabilities.topk(topk)\n",
        "    \n",
        "    # Convert to lists\n",
        "    top_probabilities = top_probabilities.detach().type(torch.FloatTensor).numpy().tolist()[0] \n",
        "    top_indices = top_indices.detach().type(torch.FloatTensor).numpy().tolist()[0] \n",
        "    \n",
        "    # Convert topk_indices to the actual class labels using class_to_idx\n",
        "    # Invert the dictionary so you get a mapping from index to class.\n",
        "    \n",
        "    idx_to_class = {value: key for key, value in model.class_to_idx.items()}\n",
        "    #print(idx_to_class)\n",
        "    \n",
        "    top_classes = [idx_to_class[index] for index in top_indices]\n",
        "    \n",
        "    return top_probabilities, top_classes\n",
        "\n",
        "predict_image_path='/content/drive/My Drive/Data Bases/chest_xray/test/PNEUMONIA/person147_bacteria_706.jpeg'\n",
        "\n",
        "probs, classes = predict(predict_image_path, model)   \n",
        "print(probs)\n",
        "print(classes)"
      ],
      "execution_count": null,
      "outputs": [
        {
          "output_type": "stream",
          "text": [
            "[0.9324209094047546, 0.0675790011882782]\n",
            "['PNEUMONIA', 'NORMAL']\n"
          ],
          "name": "stdout"
        }
      ]
    },
    {
      "cell_type": "markdown",
      "metadata": {
        "id": "5dS38R6wBODJ",
        "colab_type": "text"
      },
      "source": [
        "# Confusion Matrix"
      ]
    },
    {
      "cell_type": "markdown",
      "metadata": {
        "id": "Ok_y-IikBODJ",
        "colab_type": "text"
      },
      "source": [
        "# Sanity Checking\n",
        "\n",
        "Now that we can use a trained model for predictions, let's check to make sure it makes sense. Even if the testing accuracy is high, it's always good to check that there aren't obvious bugs. Using `matplotlib` to plot the probabilities for the 2 classes as a bar graph, along with the input image. \n",
        "\n",
        "Introduce the image path to be predicted in \"predict_image_path\" object above\n"
      ]
    },
    {
      "cell_type": "code",
      "metadata": {
        "trusted": true,
        "scrolled": true,
        "id": "KO7XaIeiBODL",
        "colab_type": "code",
        "colab": {
          "base_uri": "https://localhost:8080/",
          "height": 607
        },
        "outputId": "2853ada7-c2fc-4421-b063-6522691d0d6b"
      },
      "source": [
        "# Display an image along with the probability of being normal or pneumonia\n",
        "\n",
        "# Plot Chest X-Ray input image\n",
        "plt.figure(figsize = (6,10))\n",
        "plot_1 = plt.subplot(2,1,1)\n",
        "\n",
        "image = process_image(predict_image_path)\n",
        "\n",
        "imshow(image, plot_1, title='Chest X-Ray');\n",
        "\n",
        "# Plot the probabilities for the pneumonia and normal as a bar graph\n",
        "plt.subplot(2,1,2)\n",
        "\n",
        "sb.barplot(x=probs, y=classes, color=sb.color_palette()[0]);\n",
        "\n",
        "plt.show()"
      ],
      "execution_count": null,
      "outputs": [
        {
          "output_type": "display_data",
          "data": {
            "image/png": "[encoded data removed]",
            "text/plain": [
              "<Figure size 432x720 with 2 Axes>"
            ]
          },
          "metadata": {
            "tags": [],
            "needs_background": "light"
          }
        }
      ]
    },
    {
      "cell_type": "code",
      "metadata": {
        "trusted": true,
        "scrolled": true,
        "id": "mMvGdUKeBODQ",
        "colab_type": "code",
        "colab": {}
      },
      "source": [
        ""
      ],
      "execution_count": null,
      "outputs": []
    }
  ]
}